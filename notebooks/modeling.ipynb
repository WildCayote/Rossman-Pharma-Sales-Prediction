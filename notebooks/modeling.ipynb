{
 "cells": [
  {
   "cell_type": "markdown",
   "metadata": {},
   "source": [
    "### Add scripts to the notebook"
   ]
  },
  {
   "cell_type": "code",
   "execution_count": 1,
   "metadata": {},
   "outputs": [
    {
     "name": "stdout",
     "output_type": "stream",
     "text": [
      "d:\\KifiyaAIM-Course\\Week - 4\\Rossman-Pharma-Sales-Prediction\\notebooks\n"
     ]
    }
   ],
   "source": [
    "import sys\n",
    "import os\n",
    "\n",
    "current_dir = os.getcwd()\n",
    "print(current_dir)\n",
    "\n",
    "# Get the parent directory\n",
    "parent_dir = os.path.dirname(current_dir)\n",
    "\n",
    "scripts_path = os.path.join(parent_dir, 'scripts')\n",
    "\n",
    "# Insert the path to the parent directory\n",
    "sys.path.insert(0, parent_dir)\n",
    "\n",
    "# Insert the path to the Scripts directory\n",
    "sys.path.insert(0, scripts_path)\n",
    "\n",
    "# Add the parent directory to the Python path\n",
    "sys.path.append(os.path.abspath(os.path.join('..')))"
   ]
  },
  {
   "cell_type": "markdown",
   "metadata": {},
   "source": [
    "### Import statments"
   ]
  },
  {
   "cell_type": "code",
   "execution_count": 2,
   "metadata": {},
   "outputs": [],
   "source": [
    "import numpy as np\n",
    "import pandas as pd\n",
    "import seaborn as sns\n",
    "import matplotlib.pyplot as plt"
   ]
  },
  {
   "cell_type": "code",
   "execution_count": 3,
   "metadata": {},
   "outputs": [],
   "source": [
    "sns.set_theme()"
   ]
  },
  {
   "cell_type": "markdown",
   "metadata": {},
   "source": [
    "### Load the data"
   ]
  },
  {
   "cell_type": "markdown",
   "metadata": {},
   "source": [
    "path to csv files"
   ]
  },
  {
   "cell_type": "code",
   "execution_count": 4,
   "metadata": {},
   "outputs": [],
   "source": [
    "# path of the store data\n",
    "STORE_PATH  = '../data/store.csv'\n",
    "\n",
    "# path of the pre-compiled train data\n",
    "TRAIN_PATH = '../data/train.csv'\n",
    "\n",
    "# path of the pre-compiled test data\n",
    "TEST_DATA = '../data/test.csv'"
   ]
  },
  {
   "cell_type": "code",
   "execution_count": 5,
   "metadata": {},
   "outputs": [
    {
     "name": "stderr",
     "output_type": "stream",
     "text": [
      "C:\\Users\\VICTUS 16\\AppData\\Local\\Temp\\ipykernel_9288\\4223236660.py:5: DtypeWarning: Columns (7) have mixed types. Specify dtype option on import or set low_memory=False.\n",
      "  train_pre_df = pd.read_csv(TRAIN_PATH)\n"
     ]
    }
   ],
   "source": [
    "# load the store data\n",
    "store_df = pd.read_csv(STORE_PATH)\n",
    "\n",
    "# load the pre-compiled train data\n",
    "train_pre_df = pd.read_csv(TRAIN_PATH)\n",
    "\n",
    "# load the pre-compiled test data\n",
    "test_pre_df = pd.read_csv(TEST_DATA)"
   ]
  },
  {
   "cell_type": "markdown",
   "metadata": {},
   "source": [
    "### Preprocessing"
   ]
  },
  {
   "cell_type": "markdown",
   "metadata": {},
   "source": [
    "1) Handling missing data"
   ]
  },
  {
   "cell_type": "code",
   "execution_count": 6,
   "metadata": {},
   "outputs": [
    {
     "data": {
      "text/plain": [
       "Store            0.0\n",
       "DayOfWeek        0.0\n",
       "Date             0.0\n",
       "Sales            0.0\n",
       "Customers        0.0\n",
       "Open             0.0\n",
       "Promo            0.0\n",
       "StateHoliday     0.0\n",
       "SchoolHoliday    0.0\n",
       "dtype: float64"
      ]
     },
     "execution_count": 6,
     "metadata": {},
     "output_type": "execute_result"
    }
   ],
   "source": [
    "# empty data in the training portion\n",
    "train_pre_df.isna().mean()"
   ]
  },
  {
   "cell_type": "code",
   "execution_count": 7,
   "metadata": {},
   "outputs": [
    {
     "data": {
      "text/plain": [
       "Id               0.000000\n",
       "Store            0.000000\n",
       "DayOfWeek        0.000000\n",
       "Date             0.000000\n",
       "Open             0.000268\n",
       "Promo            0.000000\n",
       "StateHoliday     0.000000\n",
       "SchoolHoliday    0.000000\n",
       "dtype: float64"
      ]
     },
     "execution_count": 7,
     "metadata": {},
     "output_type": "execute_result"
    }
   ],
   "source": [
    "# empty data in the testing portion\n",
    "test_pre_df.isna().mean()"
   ]
  },
  {
   "cell_type": "code",
   "execution_count": 8,
   "metadata": {},
   "outputs": [
    {
     "data": {
      "text/plain": [
       "Store                        0.000000\n",
       "StoreType                    0.000000\n",
       "Assortment                   0.000000\n",
       "CompetitionDistance          0.002691\n",
       "CompetitionOpenSinceMonth    0.317489\n",
       "CompetitionOpenSinceYear     0.317489\n",
       "Promo2                       0.000000\n",
       "Promo2SinceWeek              0.487892\n",
       "Promo2SinceYear              0.487892\n",
       "PromoInterval                0.487892\n",
       "dtype: float64"
      ]
     },
     "execution_count": 8,
     "metadata": {},
     "output_type": "execute_result"
    }
   ],
   "source": [
    "# empty data in the store data\n",
    "store_df.isna().mean()"
   ]
  },
  {
   "cell_type": "markdown",
   "metadata": {},
   "source": [
    "While the training and testing data don't have any missing values, there are missing values within the store data.\n",
    "- Significant missing values:\n",
    "    - Promo2SinceWeek : 48.7892%\n",
    "    - Promo2SinceYear : 48.7892%\n",
    "    - PromoInterval : 48.7892%\n",
    "    - CompetitionOpenSinceMonth: 31.7489%\n",
    "    - CompetitionSinceYear: 31.7489%\n",
    "- Insignificant missing values:\n",
    "    - CompetitionDistance: 0.2691%"
   ]
  }
 ],
 "metadata": {
  "kernelspec": {
   "display_name": "venv",
   "language": "python",
   "name": "python3"
  },
  "language_info": {
   "codemirror_mode": {
    "name": "ipython",
    "version": 3
   },
   "file_extension": ".py",
   "mimetype": "text/x-python",
   "name": "python",
   "nbconvert_exporter": "python",
   "pygments_lexer": "ipython3",
   "version": "3.10.2"
  }
 },
 "nbformat": 4,
 "nbformat_minor": 2
}
